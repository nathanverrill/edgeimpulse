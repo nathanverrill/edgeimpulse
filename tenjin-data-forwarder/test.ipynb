{
 "cells": [
  {
   "cell_type": "code",
   "execution_count": null,
   "metadata": {},
   "outputs": [],
   "source": []
  },
  {
   "cell_type": "code",
   "execution_count": null,
   "metadata": {},
   "outputs": [],
   "source": [
    "python3 ingest_daemon.py \n",
    "    --kafka-url localhost:9092 \n",
    "    --api-key ei_1185b85996507965f24c77ad63225d0f4e9946ed913df02f35f866f2e588ba91 \n",
    "    --project-id 119522 \n",
    "--kafka-topic adhoc \n",
    "--data-keys aX aY aZ gX gY gZ mX mY mZ\n"
   ]
  },
  {
   "cell_type": "code",
   "execution_count": 1,
   "metadata": {},
   "outputs": [
    {
     "name": "stdout",
     "output_type": "stream",
     "text": [
      "Traceback (most recent call last):\n",
      "  File \"/Users/ai/edgeai-projects/edgeimpulse/tenjin-data-forwarder/ingest_daemon.py\", line 10, in <module>\n",
      "    from kafka import KafkaConsumer\n",
      "ModuleNotFoundError: No module named 'kafka'\n"
     ]
    }
   ],
   "source": [
    "\n",
    "python3 -m ingest_daemon.py --kafka-url localhost:9092 --api-key ei_1185b85996507965f24c77ad63225d0f4e9946ed913df02f35f866f2e588ba91 --project-id 119522 --kafka-topic adhoc --data-keys aX aY aZ gX gY gZ mX mY mZ\n"
   ]
  },
  {
   "cell_type": "code",
   "execution_count": null,
   "metadata": {},
   "outputs": [],
   "source": []
  }
 ],
 "metadata": {
  "kernelspec": {
   "display_name": "Python 3.9.13 64-bit",
   "language": "python",
   "name": "python3"
  },
  "language_info": {
   "codemirror_mode": {
    "name": "ipython",
    "version": 3
   },
   "file_extension": ".py",
   "mimetype": "text/x-python",
   "name": "python",
   "nbconvert_exporter": "python",
   "pygments_lexer": "ipython3",
   "version": "3.9.13"
  },
  "orig_nbformat": 4,
  "vscode": {
   "interpreter": {
    "hash": "b0fa6594d8f4cbf19f97940f81e996739fb7646882a419484c72d19e05852a7e"
   }
  }
 },
 "nbformat": 4,
 "nbformat_minor": 2
}
